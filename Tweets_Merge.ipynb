{
  "nbformat": 4,
  "nbformat_minor": 0,
  "metadata": {
    "colab": {
      "name": "mergeTweets.ipynb",
      "provenance": [],
      "collapsed_sections": []
    },
    "kernelspec": {
      "name": "python3",
      "display_name": "Python 3"
    }
  },
  "cells": [
    {
      "cell_type": "code",
      "metadata": {
        "id": "Vaw-nBWyEHb5",
        "colab_type": "code",
        "outputId": "e6786b45-e932-4c1a-9943-e0264f615de1",
        "colab": {
          "base_uri": "https://localhost:8080/",
          "height": 120
        }
      },
      "source": [
        "from google.colab import drive\n",
        "drive.mount('/content/drive')"
      ],
      "execution_count": 0,
      "outputs": [
        {
          "output_type": "stream",
          "text": [
            "Go to this URL in a browser: https://accounts.google.com/o/oauth2/auth?client_id=947318989803-6bn6qk8qdgf4n4g3pfee6491hc0brc4i.apps.googleusercontent.com&redirect_uri=urn%3aietf%3awg%3aoauth%3a2.0%3aoob&response_type=code&scope=email%20https%3a%2f%2fwww.googleapis.com%2fauth%2fdocs.test%20https%3a%2f%2fwww.googleapis.com%2fauth%2fdrive%20https%3a%2f%2fwww.googleapis.com%2fauth%2fdrive.photos.readonly%20https%3a%2f%2fwww.googleapis.com%2fauth%2fpeopleapi.readonly\n",
            "\n",
            "Enter your authorization code:\n",
            "··········\n",
            "Mounted at /content/drive\n"
          ],
          "name": "stdout"
        }
      ]
    },
    {
      "cell_type": "code",
      "metadata": {
        "id": "SZkwPK57EPVq",
        "colab_type": "code",
        "outputId": "09f87c0d-9d42-4da5-bf36-fdb360147462",
        "colab": {
          "base_uri": "https://localhost:8080/",
          "height": 33
        }
      },
      "source": [
        "%cd drive/My Drive/IronyDetection/Classification_system/"
      ],
      "execution_count": 0,
      "outputs": [
        {
          "output_type": "stream",
          "text": [
            "/content/drive/My Drive/IronyDetection/Classification_system\n"
          ],
          "name": "stdout"
        }
      ]
    },
    {
      "cell_type": "code",
      "metadata": {
        "id": "DRDVnkT0EUBW",
        "colab_type": "code",
        "colab": {}
      },
      "source": [
        "import pickle\n",
        "import random\n",
        "\n",
        "with open(\"test_hinglish_stopwords_present_rarewords_absent.txt\", \"rb\") as fp:\n",
        "  hinglish_tweets = pickle.load(fp)\n",
        "\n",
        "with open(\"test_english_stopwords_present_rarewords_absent.txt\", \"rb\") as fp:\n",
        "  english_tweets = pickle.load(fp)\n"
      ],
      "execution_count": 0,
      "outputs": []
    },
    {
      "cell_type": "code",
      "metadata": {
        "id": "ZAq_PSOFqK6S",
        "colab_type": "code",
        "outputId": "cebffd40-e656-451f-dc84-ab5c76eb9acc",
        "colab": {
          "base_uri": "https://localhost:8080/",
          "height": 50
        }
      },
      "source": [
        "print(len(hinglish_tweets))\n",
        "print(len(english_tweets))"
      ],
      "execution_count": 0,
      "outputs": [
        {
          "output_type": "stream",
          "text": [
            "426850\n",
            "298554\n"
          ],
          "name": "stdout"
        }
      ]
    },
    {
      "cell_type": "code",
      "metadata": {
        "id": "J5urUby2Eb6s",
        "colab_type": "code",
        "colab": {}
      },
      "source": [
        "hinglish_tweets = [ x for x in hinglish_tweets if x!=[] ]\n",
        "english_tweets = [ x for x in english_tweets if x!=[] ]"
      ],
      "execution_count": 0,
      "outputs": []
    },
    {
      "cell_type": "code",
      "metadata": {
        "id": "TSMYpIL7tcTN",
        "colab_type": "code",
        "colab": {}
      },
      "source": [
        "#english_tweets = english_tweets[:10000]"
      ],
      "execution_count": 0,
      "outputs": []
    },
    {
      "cell_type": "code",
      "metadata": {
        "id": "-oCpLn-EE1Xa",
        "colab_type": "code",
        "outputId": "4a5e7e1b-fcf5-419a-e352-802bd750970b",
        "colab": {
          "base_uri": "https://localhost:8080/",
          "height": 67
        }
      },
      "source": [
        "total_tweets = []\n",
        "\n",
        "total_tweets.extend(hinglish_tweets)\n",
        "print(\"Hinglish tweets added\")\n",
        "\n",
        "total_tweets.extend(english_tweets)\n",
        "print(\"English tweets added\")\n",
        "\n",
        "random.shuffle(total_tweets)\n",
        "\n",
        "print(\"Shuffled all tweets\")"
      ],
      "execution_count": 0,
      "outputs": [
        {
          "output_type": "stream",
          "text": [
            "Hinglish tweets added\n",
            "English tweets added\n",
            "Shuffled all tweets\n"
          ],
          "name": "stdout"
        }
      ]
    },
    {
      "cell_type": "code",
      "metadata": {
        "id": "05QjFOoHtnNX",
        "colab_type": "code",
        "outputId": "f36df1cb-ff83-4f21-ef0b-94c6ed23f9de",
        "colab": {
          "base_uri": "https://localhost:8080/",
          "height": 33
        }
      },
      "source": [
        "print(len(total_tweets))"
      ],
      "execution_count": 0,
      "outputs": [
        {
          "output_type": "stream",
          "text": [
            "725404\n"
          ],
          "name": "stdout"
        }
      ]
    },
    {
      "cell_type": "code",
      "metadata": {
        "id": "pKMZu20EFjId",
        "colab_type": "code",
        "colab": {}
      },
      "source": [
        "import pickle\n",
        "with open(\"test_hinglish_plus_english_stopwords_present_rarewords_absent.txt\", \"wb\") as fp:   \n",
        "  pickle.dump(total_tweets, fp)"
      ],
      "execution_count": 0,
      "outputs": []
    }
  ]
}