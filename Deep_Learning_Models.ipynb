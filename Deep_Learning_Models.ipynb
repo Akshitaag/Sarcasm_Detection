{
  "nbformat": 4,
  "nbformat_minor": 0,
  "metadata": {
    "kernelspec": {
      "display_name": "Python 3",
      "language": "python",
      "name": "python3"
    },
    "language_info": {
      "codemirror_mode": {
        "name": "ipython",
        "version": 3
      },
      "file_extension": ".py",
      "mimetype": "text/x-python",
      "name": "python",
      "nbconvert_exporter": "python",
      "pygments_lexer": "ipython3",
      "version": "3.6.4"
    },
    "colab": {
      "name": "keras-cnn-with-fasttext-embeddings.ipynb",
      "provenance": [],
      "collapsed_sections": []
    },
    "accelerator": "GPU"
  },
  "cells": [
    {
      "cell_type": "code",
      "metadata": {
        "id": "GffWHGGdpgWP",
        "colab_type": "code",
        "colab": {}
      },
      "source": [
        "#train.csv - id, tweet_text, labels one hot encoded\n",
        "#test.csv - id, tweet_text\n",
        "#test_labels.csv - id, labels one hot encoded -- of test texts"
      ],
      "execution_count": 0,
      "outputs": []
    },
    {
      "cell_type": "code",
      "metadata": {
        "id": "fZqjgsbhEPrf",
        "colab_type": "code",
        "outputId": "cb7ba5cc-af17-49ae-c0b1-8f062b4b9362",
        "colab": {
          "base_uri": "https://localhost:8080/",
          "height": 120
        }
      },
      "source": [
        "from google.colab import drive\n",
        "drive.mount('/content/drive')"
      ],
      "execution_count": 0,
      "outputs": [
        {
          "output_type": "stream",
          "text": [
            "Go to this URL in a browser: https://accounts.google.com/o/oauth2/auth?client_id=947318989803-6bn6qk8qdgf4n4g3pfee6491hc0brc4i.apps.googleusercontent.com&redirect_uri=urn%3aietf%3awg%3aoauth%3a2.0%3aoob&response_type=code&scope=email%20https%3a%2f%2fwww.googleapis.com%2fauth%2fdocs.test%20https%3a%2f%2fwww.googleapis.com%2fauth%2fdrive%20https%3a%2f%2fwww.googleapis.com%2fauth%2fdrive.photos.readonly%20https%3a%2f%2fwww.googleapis.com%2fauth%2fpeopleapi.readonly\n",
            "\n",
            "Enter your authorization code:\n",
            "··········\n",
            "Mounted at /content/drive\n"
          ],
          "name": "stdout"
        }
      ]
    },
    {
      "cell_type": "code",
      "metadata": {
        "id": "mBNliZZPETJ5",
        "colab_type": "code",
        "outputId": "eb890464-2744-4522-c78d-8432f13122fe",
        "colab": {
          "base_uri": "https://localhost:8080/",
          "height": 33
        }
      },
      "source": [
        "%cd drive/My Drive/IronyDetection/Classification_system/"
      ],
      "execution_count": 0,
      "outputs": [
        {
          "output_type": "stream",
          "text": [
            "/content/drive/My Drive/IronyDetection/Classification_system\n"
          ],
          "name": "stdout"
        }
      ]
    },
    {
      "cell_type": "code",
      "metadata": {
        "_cell_guid": "29a8d31b-451e-4427-afb3-fd40cd01bc60",
        "_uuid": "887320b9e2d8efaaa27c3f7913debaf53c37ed52",
        "trusted": true,
        "id": "1tYkdoTrpaiS",
        "colab_type": "code",
        "outputId": "b59429e4-54a3-4496-c1c2-c6018549362a",
        "colab": {
          "base_uri": "https://localhost:8080/",
          "height": 87
        }
      },
      "source": [
        "import numpy as np\n",
        "import pandas as pd\n",
        "import seaborn as sns\n",
        "import matplotlib.pyplot as plt\n",
        "\n",
        "import keras\n",
        "from keras import optimizers, Model\n",
        "from keras import backend as K\n",
        "from keras import regularizers\n",
        "from keras.models import Sequential\n",
        "from keras.layers import Dense, Activation, Dropout, Flatten, SpatialDropout1D, LSTM, Bidirectional, TimeDistributed, Input\n",
        "from keras.layers import Embedding, Conv1D, MaxPooling1D, GlobalMaxPooling1D \n",
        "from keras.utils import plot_model\n",
        "from keras.preprocessing import sequence\n",
        "from keras.preprocessing.text import Tokenizer\n",
        "from keras.callbacks import EarlyStopping\n",
        "\n",
        "from tqdm import tqdm\n",
        "from nltk.corpus import stopwords\n",
        "from nltk.tokenize import RegexpTokenizer \n",
        "import os, re, csv, math, codecs\n",
        "\n",
        "sns.set_style(\"whitegrid\")\n",
        "#np.random.seed(0)\n",
        "\n",
        "#DATA_PATH = ''\n",
        "#EMBEDDING_DIR = ''\n",
        "\n",
        "MAX_NB_WORDS = 200000\n",
        "tokenizer = RegexpTokenizer(r'\\w+')\n",
        "#stop_words = set(stopwords.words('english'))\n",
        "#stop_words.update(['.', ',', '\"', \"'\", ':', ';', '(', ')', '[', ']', '{', '}'])\n",
        "\n",
        "#from subprocess import check_output\n",
        "#print(check_output([\"ls\", \"../input\"]).decode(\"utf8\"))\n"
      ],
      "execution_count": 0,
      "outputs": [
        {
          "output_type": "stream",
          "text": [
            "/usr/local/lib/python3.6/dist-packages/statsmodels/tools/_testing.py:19: FutureWarning: pandas.util.testing is deprecated. Use the functions in the public API at pandas.testing instead.\n",
            "  import pandas.util.testing as tm\n",
            "Using TensorFlow backend.\n"
          ],
          "name": "stderr"
        }
      ]
    },
    {
      "cell_type": "markdown",
      "metadata": {
        "_cell_guid": "6d95a418-778d-4683-85f7-33351d82c18d",
        "_uuid": "92b4cf0b1af7f4a423eacc83a1fb43e66400056f",
        "id": "nHnl04ZJpaiW",
        "colab_type": "text"
      },
      "source": [
        "Let's load the data and the embeddings..."
      ]
    },
    {
      "cell_type": "code",
      "metadata": {
        "_cell_guid": "3f6f79a5-ba5b-486d-b212-3332e6c2b6d4",
        "_uuid": "b56846b453212ccc053461ba730f56dacb433c23",
        "trusted": true,
        "id": "e_rDB4-npaiW",
        "colab_type": "code",
        "colab": {}
      },
      "source": [
        "#load embeddings\n",
        "#print('loading word embeddings...')\n",
        "#embeddings_index = {}\n",
        "#f = codecs.open('../input/fasttext/wiki.simple.vec', encoding='utf-8')\n",
        "#for line in tqdm(f):\n",
        "#    values = line.rstrip().rsplit(' ')\n",
        "#    word = values[0]\n",
        "#    coefs = np.asarray(values[1:], dtype='float32')\n",
        "#    embeddings_index[word] = coefs\n",
        "#f.close()\n",
        "#print('found %s word vectors' % len(embeddings_index))"
      ],
      "execution_count": 0,
      "outputs": []
    },
    {
      "cell_type": "code",
      "metadata": {
        "id": "QjwUYSIW27IN",
        "colab_type": "code",
        "outputId": "35bbca08-9acb-47fc-a6a9-1f0f47f7192d",
        "colab": {
          "base_uri": "https://localhost:8080/",
          "height": 70
        }
      },
      "source": [
        "from gensim.models import FastText\n",
        "embeddings_index = FastText.load(\"hinglish_fasttext_stopwords_present_rarewords_absent.model\")"
      ],
      "execution_count": 0,
      "outputs": [
        {
          "output_type": "stream",
          "text": [
            "/usr/local/lib/python3.6/dist-packages/smart_open/smart_open_lib.py:253: UserWarning: This function is deprecated, use smart_open.open instead. See the migration notes for details: https://github.com/RaRe-Technologies/smart_open/blob/master/README.rst#migrating-to-the-new-open-function\n",
            "  'See the migration notes for details: %s' % _MIGRATION_NOTES_URL\n"
          ],
          "name": "stderr"
        }
      ]
    },
    {
      "cell_type": "code",
      "metadata": {
        "id": "sAXs-KC49LDr",
        "colab_type": "code",
        "outputId": "08136476-450f-4660-ee4f-d4d7f9a03375",
        "colab": {
          "base_uri": "https://localhost:8080/",
          "height": 70
        }
      },
      "source": [
        "from gensim.models import Word2Vec\n",
        "embeddings_index = Word2Vec.load(\"hinglish_plus_english_word2vec_stopwords_present_rarewords_absent.model\")"
      ],
      "execution_count": 0,
      "outputs": [
        {
          "output_type": "stream",
          "text": [
            "/usr/local/lib/python3.6/dist-packages/smart_open/smart_open_lib.py:253: UserWarning: This function is deprecated, use smart_open.open instead. See the migration notes for details: https://github.com/RaRe-Technologies/smart_open/blob/master/README.rst#migrating-to-the-new-open-function\n",
            "  'See the migration notes for details: %s' % _MIGRATION_NOTES_URL\n"
          ],
          "name": "stderr"
        }
      ]
    },
    {
      "cell_type": "code",
      "metadata": {
        "_cell_guid": "1ba47ff9-ac70-4a6e-9811-461f6819ca89",
        "_uuid": "eee4b60da112577dbdd4b17b3760bc365e483222",
        "trusted": true,
        "id": "8hRGZDszpaib",
        "colab_type": "code",
        "outputId": "af942296-a902-4fe3-fc87-dd842e80c44e",
        "colab": {
          "base_uri": "https://localhost:8080/",
          "height": 346
        }
      },
      "source": [
        "#load data\n",
        "\n",
        "train_df = pd.read_csv('../Dataset/total_tweets_tags_removed_shuffled.csv', sep=',', header=0, encoding='ISO-8859-1')\n",
        "test_df = pd.read_csv('../Dataset/test_tweet_data.csv', sep=',', header=0)\n",
        "test_df = test_df.fillna('_NA_')\n",
        "\n",
        "print(\"num train: \", train_df.shape[0])\n",
        "print(\"num test: \", test_df.shape[0])\n",
        "#print(test_df)\n",
        "#label_names = [\"sarcastic\", \"not_sarcastic\"]\n",
        "label_names = [\"sarcastic\"]\n",
        "\n",
        "y_train = train_df[label_names].values\n",
        "y_test = test_df[label_names].values\n",
        "#y_train=y_train[0:4999]\n",
        "#y_test=y_train[:251]\n",
        "#print(len(y_train))\n",
        "#print(len(y_test))\n",
        "#visualize word distribution\n",
        "train_df['doc_len'] = train_df['tweet_text'].astype(str).apply(lambda words: len(words.split(\" \")))\n",
        "#test_df['doc_len'] = test_df['tweet_text'].astype(str).apply(lambda words: len(words.split(\" \")))\n",
        "max_seq_len = np.round(train_df['doc_len'].mean() + train_df['doc_len'].std()).astype(int)\n",
        "#max_seq_len = train_df['doc_len'].max()\n",
        "print(max_seq_len)\n",
        "sns.distplot(train_df['doc_len'], hist=True, kde=True, color='b', label='doc len')\n",
        "plt.axvline(x=max_seq_len, color='k', linestyle='--', label='max len')\n",
        "plt.title('tweet length'); \n",
        "plt.legend()\n",
        "plt.show()"
      ],
      "execution_count": 0,
      "outputs": [
        {
          "output_type": "stream",
          "text": [
            "num train:  106899\n",
            "num test:  251\n",
            "23\n"
          ],
          "name": "stdout"
        },
        {
          "output_type": "display_data",
          "data": {
            "image/png": "[encoded data removed]",
            "text/plain": [
              "<Figure size 432x288 with 1 Axes>"
            ]
          },
          "metadata": {
            "tags": []
          }
        }
      ]
    },
    {
      "cell_type": "markdown",
      "metadata": {
        "_cell_guid": "dc87384b-710c-4ec4-aec1-48bf8b2439f3",
        "_uuid": "4df404e0692a1d585336e8994b776f5cd1fd0fab",
        "id": "lm1AY3N-paid",
        "colab_type": "text"
      },
      "source": [
        "Let's pre-process the text, tokenize it and pad it to a maximum length (as in the figure above)."
      ]
    },
    {
      "cell_type": "code",
      "metadata": {
        "_cell_guid": "19aeb800-f1c8-4206-8bf8-323256ff5c14",
        "_uuid": "c600a3f2135982bf6f9b46cce3a97b1e2e5b912c",
        "scrolled": true,
        "trusted": true,
        "id": "T83c7twMpaie",
        "colab_type": "code",
        "outputId": "d84fd991-8248-48d7-cbc4-8433b1a9fae3",
        "colab": {
          "base_uri": "https://localhost:8080/",
          "height": 100
        }
      },
      "source": [
        "processed_docs_train = train_df['tweet_text'].astype(str).tolist()\n",
        "processed_docs_test = test_df['tweet_text'].astype(str).tolist() \n",
        "num_classes = len(label_names)\n",
        "\n",
        "#raw_docs_train = train_df['tweet_text'].tolist()\n",
        "#raw_docs_test = test_df['tweet_text'].tolist() \n",
        "\n",
        "#print(processed_docs_train)\n",
        "\n",
        "#print(\"pre-processing train data...\")\n",
        "#processed_docs_train = []\n",
        "#for doc in tqdm(raw_docs_train):\n",
        "#    tokens = tokenizer.tokenize(str(doc))\n",
        "#    filtered = [word for word in tokens if word not in stop_words]\n",
        "#    filtered = [word for word in tokens]\n",
        "#    processed_docs_train.append(\" \".join(filtered))\n",
        "\n",
        "#print(processed_docs_train)\n",
        "#end for\n",
        "\n",
        "#processed_docs_test = []\n",
        "#for doc in tqdm(raw_docs_test):\n",
        "#    tokens = tokenizer.tokenize(doc)\n",
        "#    #filtered = [word for word in tokens if word not in stop_words]\n",
        "#    filtered = [word for word in tokens]\n",
        "#    processed_docs_test.append(\" \".join(filtered))\n",
        "#end for\n",
        "\n",
        "print(\"tokenizing input data...\")\n",
        "tokenizer = Tokenizer(num_words=MAX_NB_WORDS, lower=True, char_level=False)\n",
        "total_docs=[]\n",
        "total_docs.extend(processed_docs_train)\n",
        "total_docs.extend(processed_docs_test)\n",
        "#tokenizer.fit_on_texts(processed_docs_train + processed_docs_test)  #leaky\n",
        "tokenizer.fit_on_texts(total_docs)\n",
        "word_seq_train = tokenizer.texts_to_sequences(processed_docs_train)\n",
        "#print(word_seq_train)\n",
        "word_seq_test = tokenizer.texts_to_sequences(processed_docs_test)\n",
        "word_index = tokenizer.word_index\n",
        "print(len(word_index))\n",
        "print(\"dictionary size: \", len(word_index))\n",
        "\n",
        "#pad sequences\n",
        "word_seq_train = sequence.pad_sequences(word_seq_train, maxlen=max_seq_len)\n",
        "print(word_seq_train[2])\n",
        "word_seq_test = sequence.pad_sequences(word_seq_test, maxlen=max_seq_len)"
      ],
      "execution_count": 0,
      "outputs": [
        {
          "output_type": "stream",
          "text": [
            "tokenizing input data...\n",
            "9842\n",
            "dictionary size:  9842\n",
            "[   0    0    0    0    0    0    0    0    0    0    0    0    0    0\n",
            "    0   91  437   89   15   27  407 1249  295]\n"
          ],
          "name": "stdout"
        }
      ]
    },
    {
      "cell_type": "markdown",
      "metadata": {
        "_cell_guid": "3b2c9452-5780-4920-8896-0b9dfa7c562b",
        "_uuid": "e8742cc989f4c71a8c401feef5e54c0e7718865a",
        "id": "dGXCyaL1paik",
        "colab_type": "text"
      },
      "source": [
        "We can now prepare our embedding matrix limiting to a max number of words:"
      ]
    },
    {
      "cell_type": "code",
      "metadata": {
        "_cell_guid": "d524dcca-8299-46d0-adae-f12f7c1a3171",
        "_uuid": "08e7abf92ce07c856f5e7d6f9ce371997495910b",
        "trusted": true,
        "id": "163KAE38paih",
        "colab_type": "code",
        "colab": {}
      },
      "source": [
        "#training params\n",
        "batch_size = 64\n",
        "num_epochs = 8 \n",
        "\n",
        "#model parameters\n",
        "num_filters = 128 \n",
        "num_kernels=200\n",
        "stride=1\n",
        "embed_dim = 300\n",
        "weight_decay = 1e-4\n",
        "\n",
        "#parallel layers \n",
        "kernel_size=7\n",
        "kernel_size_p1=3\n",
        "kernel_size_p2=6\n",
        "kernel_size_p3=9\n",
        "kernel_size_p4=12"
      ],
      "execution_count": 0,
      "outputs": []
    },
    {
      "cell_type": "code",
      "metadata": {
        "_cell_guid": "18708bcb-0ae5-467f-8725-e2dbb50f989e",
        "_uuid": "630959b52ab4e120581fac11915bf432e40b8b5f",
        "trusted": true,
        "id": "gNgE0oY2paik",
        "colab_type": "code",
        "outputId": "acc720b5-33cc-4191-9489-f72d3c2538a0",
        "colab": {
          "base_uri": "https://localhost:8080/",
          "height": 50
        }
      },
      "source": [
        "#embedding matrix\n",
        "print('preparing embedding matrix...')\n",
        "words_not_found = []\n",
        "nb_words = min(MAX_NB_WORDS, len(word_index))\n",
        "embedding_matrix = np.random.rand(nb_words, embed_dim)\n",
        "for word, i in word_index.items():\n",
        "    if i >= nb_words:\n",
        "        continue\n",
        "    #print(word)\n",
        "\n",
        "    if embeddings_index.wv.__contains__(word): \n",
        "\n",
        "        embedding_vector = embeddings_index.wv[word]\n",
        "    \n",
        "        embedding_matrix[i] = embedding_vector\n",
        "    else:\n",
        "        words_not_found.append(word)\n",
        "#print(embedding_matrix)\n",
        "print('number of null word embeddings: %d' % np.sum(np.sum(embedding_matrix, axis=1) == 0))"
      ],
      "execution_count": 0,
      "outputs": [
        {
          "output_type": "stream",
          "text": [
            "preparing embedding matrix...\n",
            "number of null word embeddings: 0\n"
          ],
          "name": "stdout"
        }
      ]
    },
    {
      "cell_type": "code",
      "metadata": {
        "id": "tjASbzxBejTG",
        "colab_type": "code",
        "outputId": "ada5e7f8-72c3-4690-952e-bf0beb3a760b",
        "colab": {
          "base_uri": "https://localhost:8080/",
          "height": 33
        }
      },
      "source": [
        "print(len(embedding_matrix[34]))"
      ],
      "execution_count": 0,
      "outputs": [
        {
          "output_type": "stream",
          "text": [
            "300\n"
          ],
          "name": "stdout"
        }
      ]
    },
    {
      "cell_type": "code",
      "metadata": {
        "id": "YDILrYH2J3oK",
        "colab_type": "code",
        "outputId": "feb6c007-979d-4e0c-af60-61daf8d880af",
        "colab": {
          "base_uri": "https://localhost:8080/",
          "height": 33
        }
      },
      "source": [
        "print(words_not_found)\n",
        "#print(embeddings_index.wv.__contains__(\"abe\"))\n",
        "#print(embeddings_index.wv['ddlj'])\n",
        "#print(len(words_not_found))\n",
        "#print(len(embedding_matrix))\n",
        "#print(len(word_index))\n"
      ],
      "execution_count": 0,
      "outputs": [
        {
          "output_type": "stream",
          "text": [
            "['2f', 'j6']\n"
          ],
          "name": "stdout"
        }
      ]
    },
    {
      "cell_type": "markdown",
      "metadata": {
        "_cell_guid": "f1db355a-b0bf-4f58-8565-efb196c5b139",
        "_uuid": "13eccb942d6c0027e6d4f317c9072579c7c747a2",
        "id": "2Yq1FFm8pain",
        "colab_type": "text"
      },
      "source": [
        "It's interesting to look at the words not found in the embeddings:"
      ]
    },
    {
      "cell_type": "code",
      "metadata": {
        "_cell_guid": "e6777c80-d2e5-49fb-9d69-75de9f322b6f",
        "_uuid": "fe157163ee51b46f011cd1b5395c36c633c11b18",
        "trusted": true,
        "id": "HZTXmrBwpaio",
        "colab_type": "code",
        "outputId": "9ec8c9c7-1f5a-48f2-a79f-959a35a63583",
        "colab": {
          "base_uri": "https://localhost:8080/",
          "height": 33
        }
      },
      "source": [
        "print(\"sample words not found: \", np.random.choice(words_not_found, 10))"
      ],
      "execution_count": 0,
      "outputs": [
        {
          "output_type": "stream",
          "text": [
            "sample words not found:  ['j6' '2f' '2f' 'j6' 'j6' 'j6' '2f' 'j6' '2f' 'j6']\n"
          ],
          "name": "stdout"
        }
      ]
    },
    {
      "cell_type": "markdown",
      "metadata": {
        "_cell_guid": "3382a8db-f082-48c3-82de-898e7a716c5f",
        "_uuid": "5d5b2e211c3b2a320aaa63c39999e913fe471f4e",
        "id": "OFD6Q9c8paig",
        "colab_type": "text"
      },
      "source": [
        "Let's define our training and model parameters:"
      ]
    },
    {
      "cell_type": "markdown",
      "metadata": {
        "_cell_guid": "86182902-7292-46dc-bedb-6aded3526a00",
        "_uuid": "92fa5491dd28f186b9ff4772a4045b4e5d59df8d",
        "id": "NPAhnVnOpair",
        "colab_type": "text"
      },
      "source": [
        "We can finally define the CNN architecture"
      ]
    },
    {
      "cell_type": "code",
      "metadata": {
        "_cell_guid": "1a2f5f71-6777-4ab7-b419-3c867e1ab7d4",
        "_uuid": "4f3484a6fc935b4da6dbe8bc21f6029c99f574bf",
        "trusted": true,
        "id": "33Q-ZMF0pair",
        "colab_type": "code",
        "outputId": "9c7409cd-a23b-494c-dda1-74e907abfa6c",
        "colab": {
          "base_uri": "https://localhost:8080/",
          "height": 502
        }
      },
      "source": [
        "#CNN architecture\n",
        "print(\"training CNN ...\")\n",
        "model = Sequential()\n",
        "model.add(Embedding(nb_words, embed_dim,\n",
        "          weights=[embedding_matrix], input_length=max_seq_len, trainable=False))\n",
        "model.add(Conv1D(num_kernels, kernel_size, activation='relu', padding='same'))\n",
        "model.add(MaxPooling1D(2))\n",
        "model.add(Conv1D(num_kernels, kernel_size, activation='relu', padding='same'))\n",
        "#model.add(GlobalMaxPooling1D())\n",
        "model.add(MaxPooling1D(2))\n",
        "#model.add(Dense(64, activation='relu', kernel_regularizer=regularizers.l2(weight_decay)))\n",
        "model.add(GlobalMaxPooling1D())\n",
        "model.add(Dropout(0.5))\n",
        "model.add(Dense(128, activation='relu'))\n",
        "model.add(Dense(64, activation='relu'))\n",
        "#model.add(Dense(num_classes, activation='sigmoid'))  #multi-label (k-hot encoding)\n",
        "model.add(Dense(1, activation='sigmoid')) \n",
        "\n",
        "adam = optimizers.Adam(lr=0.001, beta_1=0.9, beta_2=0.999, epsilon=1e-08, decay=0.0)\n",
        "model.compile(loss='binary_crossentropy', optimizer='adam', metrics=['accuracy'])\n",
        "model.summary()"
      ],
      "execution_count": 0,
      "outputs": [
        {
          "output_type": "stream",
          "text": [
            "training CNN ...\n",
            "Model: \"sequential_1\"\n",
            "_________________________________________________________________\n",
            "Layer (type)                 Output Shape              Param #   \n",
            "=================================================================\n",
            "embedding_1 (Embedding)      (None, 23, 300)           2952600   \n",
            "_________________________________________________________________\n",
            "conv1d_1 (Conv1D)            (None, 23, 200)           420200    \n",
            "_________________________________________________________________\n",
            "max_pooling1d_1 (MaxPooling1 (None, 11, 200)           0         \n",
            "_________________________________________________________________\n",
            "conv1d_2 (Conv1D)            (None, 11, 200)           280200    \n",
            "_________________________________________________________________\n",
            "max_pooling1d_2 (MaxPooling1 (None, 5, 200)            0         \n",
            "_________________________________________________________________\n",
            "global_max_pooling1d_1 (Glob (None, 200)               0         \n",
            "_________________________________________________________________\n",
            "dropout_1 (Dropout)          (None, 200)               0         \n",
            "_________________________________________________________________\n",
            "dense_1 (Dense)              (None, 128)               25728     \n",
            "_________________________________________________________________\n",
            "dense_2 (Dense)              (None, 64)                8256      \n",
            "_________________________________________________________________\n",
            "dense_3 (Dense)              (None, 1)                 65        \n",
            "=================================================================\n",
            "Total params: 3,687,049\n",
            "Trainable params: 734,449\n",
            "Non-trainable params: 2,952,600\n",
            "_________________________________________________________________\n"
          ],
          "name": "stdout"
        }
      ]
    },
    {
      "cell_type": "code",
      "metadata": {
        "id": "8AfABZS-akof",
        "colab_type": "code",
        "outputId": "0c3290f8-3150-4fc6-c8c1-bd0037a63fac",
        "colab": {
          "base_uri": "https://localhost:8080/",
          "height": 654
        }
      },
      "source": [
        "hist = model.fit(word_seq_train, y_train, batch_size=batch_size, epochs=20, validation_split=0.1, shuffle=True)"
      ],
      "execution_count": 0,
      "outputs": [
        {
          "output_type": "stream",
          "text": [
            "Train on 96209 samples, validate on 10690 samples\n",
            "Epoch 1/20\n",
            "96209/96209 [==============================] - 179s 2ms/step - loss: 0.6132 - accuracy: 0.6581 - val_loss: 0.5822 - val_accuracy: 0.6952\n",
            "Epoch 2/20\n",
            "96209/96209 [==============================] - 178s 2ms/step - loss: 0.5677 - accuracy: 0.6981 - val_loss: 0.5537 - val_accuracy: 0.7088\n",
            "Epoch 3/20\n",
            "96209/96209 [==============================] - 179s 2ms/step - loss: 0.5418 - accuracy: 0.7158 - val_loss: 0.5352 - val_accuracy: 0.7218\n",
            "Epoch 4/20\n",
            "96209/96209 [==============================] - 181s 2ms/step - loss: 0.5207 - accuracy: 0.7311 - val_loss: 0.5383 - val_accuracy: 0.7139\n",
            "Epoch 5/20\n",
            "96209/96209 [==============================] - 176s 2ms/step - loss: 0.4996 - accuracy: 0.7448 - val_loss: 0.5313 - val_accuracy: 0.7222\n",
            "Epoch 6/20\n",
            "96209/96209 [==============================] - 176s 2ms/step - loss: 0.4770 - accuracy: 0.7611 - val_loss: 0.5329 - val_accuracy: 0.7225\n",
            "Epoch 7/20\n",
            "96209/96209 [==============================] - 180s 2ms/step - loss: 0.4569 - accuracy: 0.7737 - val_loss: 0.5432 - val_accuracy: 0.7253\n",
            "Epoch 8/20\n",
            "96209/96209 [==============================] - 179s 2ms/step - loss: 0.4319 - accuracy: 0.7892 - val_loss: 0.5444 - val_accuracy: 0.7256\n",
            "Epoch 9/20\n",
            "96209/96209 [==============================] - 177s 2ms/step - loss: 0.4103 - accuracy: 0.8039 - val_loss: 0.5713 - val_accuracy: 0.7254\n",
            "Epoch 10/20\n",
            "14464/96209 [===>..........................] - ETA: 2:24 - loss: 0.3590 - accuracy: 0.8321"
          ],
          "name": "stdout"
        },
        {
          "output_type": "error",
          "ename": "KeyboardInterrupt",
          "evalue": "ignored",
          "traceback": [
            "\u001b[0;31m---------------------------------------------------------------------------\u001b[0m",
            "\u001b[0;31mKeyboardInterrupt\u001b[0m                         Traceback (most recent call last)",
            "\u001b[0;32m<ipython-input-15-55ab9ab8304b>\u001b[0m in \u001b[0;36m<module>\u001b[0;34m()\u001b[0m\n\u001b[0;32m----> 1\u001b[0;31m \u001b[0mhist\u001b[0m \u001b[0;34m=\u001b[0m \u001b[0mmodel\u001b[0m\u001b[0;34m.\u001b[0m\u001b[0mfit\u001b[0m\u001b[0;34m(\u001b[0m\u001b[0mword_seq_train\u001b[0m\u001b[0;34m,\u001b[0m \u001b[0my_train\u001b[0m\u001b[0;34m,\u001b[0m \u001b[0mbatch_size\u001b[0m\u001b[0;34m=\u001b[0m\u001b[0mbatch_size\u001b[0m\u001b[0;34m,\u001b[0m \u001b[0mepochs\u001b[0m\u001b[0;34m=\u001b[0m\u001b[0;36m20\u001b[0m\u001b[0;34m,\u001b[0m \u001b[0mvalidation_split\u001b[0m\u001b[0;34m=\u001b[0m\u001b[0;36m0.1\u001b[0m\u001b[0;34m,\u001b[0m \u001b[0mshuffle\u001b[0m\u001b[0;34m=\u001b[0m\u001b[0;32mTrue\u001b[0m\u001b[0;34m)\u001b[0m\u001b[0;34m\u001b[0m\u001b[0;34m\u001b[0m\u001b[0m\n\u001b[0m",
            "\u001b[0;32m/usr/local/lib/python3.6/dist-packages/keras/engine/training.py\u001b[0m in \u001b[0;36mfit\u001b[0;34m(self, x, y, batch_size, epochs, verbose, callbacks, validation_split, validation_data, shuffle, class_weight, sample_weight, initial_epoch, steps_per_epoch, validation_steps, validation_freq, max_queue_size, workers, use_multiprocessing, **kwargs)\u001b[0m\n\u001b[1;32m   1237\u001b[0m                                         \u001b[0msteps_per_epoch\u001b[0m\u001b[0;34m=\u001b[0m\u001b[0msteps_per_epoch\u001b[0m\u001b[0;34m,\u001b[0m\u001b[0;34m\u001b[0m\u001b[0;34m\u001b[0m\u001b[0m\n\u001b[1;32m   1238\u001b[0m                                         \u001b[0mvalidation_steps\u001b[0m\u001b[0;34m=\u001b[0m\u001b[0mvalidation_steps\u001b[0m\u001b[0;34m,\u001b[0m\u001b[0;34m\u001b[0m\u001b[0;34m\u001b[0m\u001b[0m\n\u001b[0;32m-> 1239\u001b[0;31m                                         validation_freq=validation_freq)\n\u001b[0m\u001b[1;32m   1240\u001b[0m \u001b[0;34m\u001b[0m\u001b[0m\n\u001b[1;32m   1241\u001b[0m     def evaluate(self,\n",
            "\u001b[0;32m/usr/local/lib/python3.6/dist-packages/keras/engine/training_arrays.py\u001b[0m in \u001b[0;36mfit_loop\u001b[0;34m(model, fit_function, fit_inputs, out_labels, batch_size, epochs, verbose, callbacks, val_function, val_inputs, shuffle, initial_epoch, steps_per_epoch, validation_steps, validation_freq)\u001b[0m\n\u001b[1;32m    194\u001b[0m                     \u001b[0mins_batch\u001b[0m\u001b[0;34m[\u001b[0m\u001b[0mi\u001b[0m\u001b[0;34m]\u001b[0m \u001b[0;34m=\u001b[0m \u001b[0mins_batch\u001b[0m\u001b[0;34m[\u001b[0m\u001b[0mi\u001b[0m\u001b[0;34m]\u001b[0m\u001b[0;34m.\u001b[0m\u001b[0mtoarray\u001b[0m\u001b[0;34m(\u001b[0m\u001b[0;34m)\u001b[0m\u001b[0;34m\u001b[0m\u001b[0;34m\u001b[0m\u001b[0m\n\u001b[1;32m    195\u001b[0m \u001b[0;34m\u001b[0m\u001b[0m\n\u001b[0;32m--> 196\u001b[0;31m                 \u001b[0mouts\u001b[0m \u001b[0;34m=\u001b[0m \u001b[0mfit_function\u001b[0m\u001b[0;34m(\u001b[0m\u001b[0mins_batch\u001b[0m\u001b[0;34m)\u001b[0m\u001b[0;34m\u001b[0m\u001b[0;34m\u001b[0m\u001b[0m\n\u001b[0m\u001b[1;32m    197\u001b[0m                 \u001b[0mouts\u001b[0m \u001b[0;34m=\u001b[0m \u001b[0mto_list\u001b[0m\u001b[0;34m(\u001b[0m\u001b[0mouts\u001b[0m\u001b[0;34m)\u001b[0m\u001b[0;34m\u001b[0m\u001b[0;34m\u001b[0m\u001b[0m\n\u001b[1;32m    198\u001b[0m                 \u001b[0;32mfor\u001b[0m \u001b[0ml\u001b[0m\u001b[0;34m,\u001b[0m \u001b[0mo\u001b[0m \u001b[0;32min\u001b[0m \u001b[0mzip\u001b[0m\u001b[0;34m(\u001b[0m\u001b[0mout_labels\u001b[0m\u001b[0;34m,\u001b[0m \u001b[0mouts\u001b[0m\u001b[0;34m)\u001b[0m\u001b[0;34m:\u001b[0m\u001b[0;34m\u001b[0m\u001b[0;34m\u001b[0m\u001b[0m\n",
            "\u001b[0;32m/usr/local/lib/python3.6/dist-packages/tensorflow/python/keras/backend.py\u001b[0m in \u001b[0;36m__call__\u001b[0;34m(self, inputs)\u001b[0m\n\u001b[1;32m   3790\u001b[0m         \u001b[0mvalue\u001b[0m \u001b[0;34m=\u001b[0m \u001b[0mmath_ops\u001b[0m\u001b[0;34m.\u001b[0m\u001b[0mcast\u001b[0m\u001b[0;34m(\u001b[0m\u001b[0mvalue\u001b[0m\u001b[0;34m,\u001b[0m \u001b[0mtensor\u001b[0m\u001b[0;34m.\u001b[0m\u001b[0mdtype\u001b[0m\u001b[0;34m)\u001b[0m\u001b[0;34m\u001b[0m\u001b[0;34m\u001b[0m\u001b[0m\n\u001b[1;32m   3791\u001b[0m       \u001b[0mconverted_inputs\u001b[0m\u001b[0;34m.\u001b[0m\u001b[0mappend\u001b[0m\u001b[0;34m(\u001b[0m\u001b[0mvalue\u001b[0m\u001b[0;34m)\u001b[0m\u001b[0;34m\u001b[0m\u001b[0;34m\u001b[0m\u001b[0m\n\u001b[0;32m-> 3792\u001b[0;31m     \u001b[0moutputs\u001b[0m \u001b[0;34m=\u001b[0m \u001b[0mself\u001b[0m\u001b[0;34m.\u001b[0m\u001b[0m_graph_fn\u001b[0m\u001b[0;34m(\u001b[0m\u001b[0;34m*\u001b[0m\u001b[0mconverted_inputs\u001b[0m\u001b[0;34m)\u001b[0m\u001b[0;34m\u001b[0m\u001b[0;34m\u001b[0m\u001b[0m\n\u001b[0m\u001b[1;32m   3793\u001b[0m \u001b[0;34m\u001b[0m\u001b[0m\n\u001b[1;32m   3794\u001b[0m     \u001b[0;31m# EagerTensor.numpy() will often make a copy to ensure memory safety.\u001b[0m\u001b[0;34m\u001b[0m\u001b[0;34m\u001b[0m\u001b[0;34m\u001b[0m\u001b[0m\n",
            "\u001b[0;32m/usr/local/lib/python3.6/dist-packages/tensorflow/python/eager/function.py\u001b[0m in \u001b[0;36m__call__\u001b[0;34m(self, *args, **kwargs)\u001b[0m\n\u001b[1;32m   1603\u001b[0m       \u001b[0mTypeError\u001b[0m\u001b[0;34m:\u001b[0m \u001b[0mFor\u001b[0m \u001b[0minvalid\u001b[0m \u001b[0mpositional\u001b[0m\u001b[0;34m/\u001b[0m\u001b[0mkeyword\u001b[0m \u001b[0margument\u001b[0m \u001b[0mcombinations\u001b[0m\u001b[0;34m.\u001b[0m\u001b[0;34m\u001b[0m\u001b[0;34m\u001b[0m\u001b[0m\n\u001b[1;32m   1604\u001b[0m     \"\"\"\n\u001b[0;32m-> 1605\u001b[0;31m     \u001b[0;32mreturn\u001b[0m \u001b[0mself\u001b[0m\u001b[0;34m.\u001b[0m\u001b[0m_call_impl\u001b[0m\u001b[0;34m(\u001b[0m\u001b[0margs\u001b[0m\u001b[0;34m,\u001b[0m \u001b[0mkwargs\u001b[0m\u001b[0;34m)\u001b[0m\u001b[0;34m\u001b[0m\u001b[0;34m\u001b[0m\u001b[0m\n\u001b[0m\u001b[1;32m   1606\u001b[0m \u001b[0;34m\u001b[0m\u001b[0m\n\u001b[1;32m   1607\u001b[0m   \u001b[0;32mdef\u001b[0m \u001b[0m_call_impl\u001b[0m\u001b[0;34m(\u001b[0m\u001b[0mself\u001b[0m\u001b[0;34m,\u001b[0m \u001b[0margs\u001b[0m\u001b[0;34m,\u001b[0m \u001b[0mkwargs\u001b[0m\u001b[0;34m,\u001b[0m \u001b[0mcancellation_manager\u001b[0m\u001b[0;34m=\u001b[0m\u001b[0;32mNone\u001b[0m\u001b[0;34m)\u001b[0m\u001b[0;34m:\u001b[0m\u001b[0;34m\u001b[0m\u001b[0;34m\u001b[0m\u001b[0m\n",
            "\u001b[0;32m/usr/local/lib/python3.6/dist-packages/tensorflow/python/eager/function.py\u001b[0m in \u001b[0;36m_call_impl\u001b[0;34m(self, args, kwargs, cancellation_manager)\u001b[0m\n\u001b[1;32m   1643\u001b[0m       raise TypeError(\"Keyword arguments {} unknown. Expected {}.\".format(\n\u001b[1;32m   1644\u001b[0m           list(kwargs.keys()), list(self._arg_keywords)))\n\u001b[0;32m-> 1645\u001b[0;31m     \u001b[0;32mreturn\u001b[0m \u001b[0mself\u001b[0m\u001b[0;34m.\u001b[0m\u001b[0m_call_flat\u001b[0m\u001b[0;34m(\u001b[0m\u001b[0margs\u001b[0m\u001b[0;34m,\u001b[0m \u001b[0mself\u001b[0m\u001b[0;34m.\u001b[0m\u001b[0mcaptured_inputs\u001b[0m\u001b[0;34m,\u001b[0m \u001b[0mcancellation_manager\u001b[0m\u001b[0;34m)\u001b[0m\u001b[0;34m\u001b[0m\u001b[0;34m\u001b[0m\u001b[0m\n\u001b[0m\u001b[1;32m   1646\u001b[0m \u001b[0;34m\u001b[0m\u001b[0m\n\u001b[1;32m   1647\u001b[0m   \u001b[0;32mdef\u001b[0m \u001b[0m_filtered_call\u001b[0m\u001b[0;34m(\u001b[0m\u001b[0mself\u001b[0m\u001b[0;34m,\u001b[0m \u001b[0margs\u001b[0m\u001b[0;34m,\u001b[0m \u001b[0mkwargs\u001b[0m\u001b[0;34m)\u001b[0m\u001b[0;34m:\u001b[0m\u001b[0;34m\u001b[0m\u001b[0;34m\u001b[0m\u001b[0m\n",
            "\u001b[0;32m/usr/local/lib/python3.6/dist-packages/tensorflow/python/eager/function.py\u001b[0m in \u001b[0;36m_call_flat\u001b[0;34m(self, args, captured_inputs, cancellation_manager)\u001b[0m\n\u001b[1;32m   1744\u001b[0m       \u001b[0;31m# No tape is watching; skip to running the function.\u001b[0m\u001b[0;34m\u001b[0m\u001b[0;34m\u001b[0m\u001b[0;34m\u001b[0m\u001b[0m\n\u001b[1;32m   1745\u001b[0m       return self._build_call_outputs(self._inference_function.call(\n\u001b[0;32m-> 1746\u001b[0;31m           ctx, args, cancellation_manager=cancellation_manager))\n\u001b[0m\u001b[1;32m   1747\u001b[0m     forward_backward = self._select_forward_and_backward_functions(\n\u001b[1;32m   1748\u001b[0m         \u001b[0margs\u001b[0m\u001b[0;34m,\u001b[0m\u001b[0;34m\u001b[0m\u001b[0;34m\u001b[0m\u001b[0m\n",
            "\u001b[0;32m/usr/local/lib/python3.6/dist-packages/tensorflow/python/eager/function.py\u001b[0m in \u001b[0;36mcall\u001b[0;34m(self, ctx, args, cancellation_manager)\u001b[0m\n\u001b[1;32m    596\u001b[0m               \u001b[0minputs\u001b[0m\u001b[0;34m=\u001b[0m\u001b[0margs\u001b[0m\u001b[0;34m,\u001b[0m\u001b[0;34m\u001b[0m\u001b[0;34m\u001b[0m\u001b[0m\n\u001b[1;32m    597\u001b[0m               \u001b[0mattrs\u001b[0m\u001b[0;34m=\u001b[0m\u001b[0mattrs\u001b[0m\u001b[0;34m,\u001b[0m\u001b[0;34m\u001b[0m\u001b[0;34m\u001b[0m\u001b[0m\n\u001b[0;32m--> 598\u001b[0;31m               ctx=ctx)\n\u001b[0m\u001b[1;32m    599\u001b[0m         \u001b[0;32melse\u001b[0m\u001b[0;34m:\u001b[0m\u001b[0;34m\u001b[0m\u001b[0;34m\u001b[0m\u001b[0m\n\u001b[1;32m    600\u001b[0m           outputs = execute.execute_with_cancellation(\n",
            "\u001b[0;32m/usr/local/lib/python3.6/dist-packages/tensorflow/python/eager/execute.py\u001b[0m in \u001b[0;36mquick_execute\u001b[0;34m(op_name, num_outputs, inputs, attrs, ctx, name)\u001b[0m\n\u001b[1;32m     58\u001b[0m     \u001b[0mctx\u001b[0m\u001b[0;34m.\u001b[0m\u001b[0mensure_initialized\u001b[0m\u001b[0;34m(\u001b[0m\u001b[0;34m)\u001b[0m\u001b[0;34m\u001b[0m\u001b[0;34m\u001b[0m\u001b[0m\n\u001b[1;32m     59\u001b[0m     tensors = pywrap_tfe.TFE_Py_Execute(ctx._handle, device_name, op_name,\n\u001b[0;32m---> 60\u001b[0;31m                                         inputs, attrs, num_outputs)\n\u001b[0m\u001b[1;32m     61\u001b[0m   \u001b[0;32mexcept\u001b[0m \u001b[0mcore\u001b[0m\u001b[0;34m.\u001b[0m\u001b[0m_NotOkStatusException\u001b[0m \u001b[0;32mas\u001b[0m \u001b[0me\u001b[0m\u001b[0;34m:\u001b[0m\u001b[0;34m\u001b[0m\u001b[0;34m\u001b[0m\u001b[0m\n\u001b[1;32m     62\u001b[0m     \u001b[0;32mif\u001b[0m \u001b[0mname\u001b[0m \u001b[0;32mis\u001b[0m \u001b[0;32mnot\u001b[0m \u001b[0;32mNone\u001b[0m\u001b[0;34m:\u001b[0m\u001b[0;34m\u001b[0m\u001b[0;34m\u001b[0m\u001b[0m\n",
            "\u001b[0;31mKeyboardInterrupt\u001b[0m: "
          ]
        }
      ]
    },
    {
      "cell_type": "code",
      "metadata": {
        "id": "EpRbsICJH7Vl",
        "colab_type": "code",
        "colab": {}
      },
      "source": [
        "print(\"training CNN2 ...\")\n",
        "\n",
        "inputt = Input(shape=(max_seq_len,))\n",
        "model = Embedding(nb_words, embed_dim,weights=[embedding_matrix],input_length=max_seq_len, trainable = False)(inputt)\n",
        "tower_1 = Conv1D(num_kernels, kernel_size_p1, padding='same', activation='relu', strides=stride)(model)\n",
        "tower_2 = Conv1D(num_kernels, kernel_size_p2, padding='same', activation='relu', strides=stride)(model)\n",
        "tower_3 = Conv1D(num_kernels, kernel_size_p3, padding='same', activation='relu', strides=stride)(model)\n",
        "tower_4 = Conv1D(num_kernels, kernel_size_p4, padding='same', activation='relu', strides=stride)(model)\n",
        "model = keras.layers.concatenate([tower_1, tower_2, tower_3, tower_4], axis=1)\n",
        "model = GlobalMaxPooling1D()(model)\n",
        "model = Dropout(0.5)(model)\n",
        "#model = Flatten()(model)\n",
        "model = Dense(128, activation='relu')(model)\n",
        "model = Dense(64, activation='relu')(model)\n",
        "output = Dense(num_classes, activation='sigmoid')(model)\n",
        "model = Model(inputt, output)\n",
        "\n",
        "#adam = optimizers.Adam(lr=0.001, beta_1=0.9, beta_2=0.999, epsilon=1e-08, decay=0.0)\n",
        "model.compile(loss='binary_crossentropy', optimizer='adam', metrics=['accuracy'])\n",
        "model.summary()\n"
      ],
      "execution_count": 0,
      "outputs": []
    },
    {
      "cell_type": "code",
      "metadata": {
        "colab_type": "code",
        "id": "dPvTEGZUu6NM",
        "colab": {}
      },
      "source": [
        "hist = model.fit(word_seq_train, y_train, batch_size=batch_size, epochs=20, validation_split=0.1, shuffle=True)"
      ],
      "execution_count": 0,
      "outputs": []
    },
    {
      "cell_type": "code",
      "metadata": {
        "id": "HJczDW_H7dRB",
        "colab_type": "code",
        "colab": {}
      },
      "source": [
        "#LSTM Params\n",
        "\n",
        "lstm_out1 = 150\n",
        "bilstm_out1 = 96\n",
        "lstm_out2 = 32\n",
        "dropout = 0.2\n",
        "recurrent_dropout = 0.2"
      ],
      "execution_count": 0,
      "outputs": []
    },
    {
      "cell_type": "code",
      "metadata": {
        "id": "6Sv0YAZc7M85",
        "colab_type": "code",
        "colab": {}
      },
      "source": [
        "#LSTM\n",
        "\n",
        "model = Sequential()\n",
        "model.add(Embedding(nb_words, embed_dim,\n",
        "          weights=[embedding_matrix], input_length=max_seq_len, trainable=False))\n",
        "model.add(LSTM(lstm_out1, dropout_U = 0.2, dropout_W = 0.2))\n",
        "#model.add(MaxPooling1D(2))\n",
        "model.add(Dense(64, activation='relu'))\n",
        "\n",
        "model.add(Dense(1, activation='sigmoid'))\n",
        "model.compile(loss='binary_crossentropy',\n",
        "                  optimizer='adam',\n",
        "                  metrics=['accuracy'])\n",
        "\n",
        "model.summary()"
      ],
      "execution_count": 0,
      "outputs": []
    },
    {
      "cell_type": "code",
      "metadata": {
        "colab_type": "code",
        "id": "ZvIccE0huvAR",
        "colab": {}
      },
      "source": [
        "hist = model.fit(word_seq_train, y_train, batch_size=batch_size, epochs=20, validation_split=0.1, shuffle=True)"
      ],
      "execution_count": 0,
      "outputs": []
    },
    {
      "cell_type": "code",
      "metadata": {
        "id": "On4dD0sHJwY2",
        "colab_type": "code",
        "colab": {}
      },
      "source": [
        "# BiLSTM\n",
        "\n",
        "# main model\n",
        "inputt = Input(shape=(max_seq_len,))\n",
        "model = Embedding(nb_words, embed_dim,weights=[embedding_matrix],input_length=max_seq_len, trainable = False)(inputt)\n",
        "model =  Bidirectional (LSTM (lstm_out1, return_sequences=True, dropout_U = 0.2, dropout_W = 0.2 ), merge_mode='concat')(model)\n",
        "model = TimeDistributed(Dense(10,activation='relu'))(model)\n",
        "model = Flatten()(model)\n",
        "model = Dense(64,activation='relu')(model)\n",
        "output = Dense(1,activation='sigmoid')(model)\n",
        "model = Model(inputt,output)\n",
        "model.compile(loss='binary_crossentropy',optimizer='adam', metrics=['accuracy'])\n",
        "model.summary()"
      ],
      "execution_count": 0,
      "outputs": []
    },
    {
      "cell_type": "code",
      "metadata": {
        "colab_type": "code",
        "id": "zQDSwJ81Hzu3",
        "colab": {}
      },
      "source": [
        "hist = model.fit(word_seq_train, y_train, batch_size=batch_size, epochs=20, validation_split=0.1, shuffle=True)"
      ],
      "execution_count": 0,
      "outputs": []
    },
    {
      "cell_type": "code",
      "metadata": {
        "id": "lzg_abDUYpeu",
        "colab_type": "code",
        "colab": {}
      },
      "source": [
        "# Attention BiLSTM\n",
        "\n",
        "from keras import backend as K\n",
        "from keras.engine.topology import Layer\n",
        "from keras import initializers, regularizers, constraints\n",
        "\n",
        "\n",
        "class Attention(Layer):\n",
        "    def __init__(self, step_dim,\n",
        "                 W_regularizer=None, b_regularizer=None,\n",
        "                 W_constraint=None, b_constraint=None,\n",
        "                 bias=True, **kwargs):\n",
        "        self.supports_masking = True\n",
        "        self.init = initializers.get('glorot_uniform')\n",
        "\n",
        "        self.W_regularizer = regularizers.get(W_regularizer)\n",
        "        self.b_regularizer = regularizers.get(b_regularizer)\n",
        "\n",
        "        self.W_constraint = constraints.get(W_constraint)\n",
        "        self.b_constraint = constraints.get(b_constraint)\n",
        "\n",
        "        self.bias = bias\n",
        "        self.step_dim = step_dim\n",
        "        self.features_dim = 0\n",
        "        super(Attention, self).__init__(**kwargs)\n",
        "\n",
        "    def build(self, input_shape):\n",
        "        assert len(input_shape) == 3\n",
        "\n",
        "        self.W = self.add_weight( shape=(input_shape[-1],),\n",
        "                                 initializer=self.init,\n",
        "                                 name='{}_W'.format(self.name),\n",
        "                                 regularizer=self.W_regularizer,\n",
        "                                 constraint=self.W_constraint)\n",
        "        self.features_dim = input_shape[-1]\n",
        "        #print(self.name)\n",
        "        if self.bias:\n",
        "            self.b = self.add_weight(shape=(input_shape[1],),\n",
        "                                     initializer='zero',\n",
        "                                     name='{}_b'.format(self.name),\n",
        "                                     regularizer=self.b_regularizer,\n",
        "                                     constraint=self.b_constraint)\n",
        "        else:\n",
        "            self.b = None\n",
        "\n",
        "        self.built = True\n",
        "\n",
        "    def compute_mask(self, input, input_mask=None):\n",
        "        return None\n",
        "\n",
        "    def call(self, x, mask=None):\n",
        "        features_dim = self.features_dim\n",
        "        step_dim = self.step_dim\n",
        "\n",
        "        eij = K.reshape(K.dot(K.reshape(x, (-1, features_dim)),\n",
        "                        K.reshape(self.W, (features_dim, 1))), (-1, step_dim))\n",
        "\n",
        "        if self.bias:\n",
        "            eij += self.b\n",
        "\n",
        "        eij = K.tanh(eij)\n",
        "\n",
        "        a = K.exp(eij)\n",
        "\n",
        "        if mask is not None:\n",
        "            a *= K.cast(mask, K.floatx())\n",
        "\n",
        "        a /= K.cast(K.sum(a, axis=1, keepdims=True) + K.epsilon(), K.floatx())\n",
        "\n",
        "        a = K.expand_dims(a)\n",
        "        weighted_input = x * a\n",
        "        return K.sum(weighted_input, axis=1)\n",
        "\n",
        "    def compute_output_shape(self, input_shape):\n",
        "        return input_shape[0],  self.features_dim\n"
      ],
      "execution_count": 0,
      "outputs": []
    },
    {
      "cell_type": "code",
      "metadata": {
        "id": "YeGgEApsZHlz",
        "colab_type": "code",
        "colab": {}
      },
      "source": [
        "inp = Input(shape=(max_seq_len, ))\n",
        "x = Embedding(nb_words, embed_dim, weights=[embedding_matrix], trainable=False)(inp)\n",
        "x = Bidirectional(LSTM(lstm_out1, return_sequences=True, dropout=0.20, recurrent_dropout=0.20))(x)\n",
        "x = Attention(max_seq_len)(x)\n",
        "x = Dense(64, activation=\"relu\")(x)\n",
        "#x = Dropout(0.25)(x)\n",
        "x = Dense(1, activation=\"sigmoid\")(x)\n",
        "model = Model(inputs=inp, outputs=x)\n",
        "\n",
        "model.compile(loss='binary_crossentropy',optimizer='adam', metrics=['accuracy'])\n",
        "model.summary()"
      ],
      "execution_count": 0,
      "outputs": []
    },
    {
      "cell_type": "code",
      "metadata": {
        "colab_type": "code",
        "id": "1DdEyto2uvk8",
        "colab": {}
      },
      "source": [
        "hist = model.fit(word_seq_train, y_train, batch_size=batch_size, epochs=20, validation_split=0.1, shuffle=True)"
      ],
      "execution_count": 0,
      "outputs": []
    },
    {
      "cell_type": "code",
      "metadata": {
        "colab_type": "code",
        "outputId": "d33dd04c-2d7c-4b92-8e8f-28a274f813bb",
        "id": "wOAFr2k1nRFH",
        "colab": {
          "base_uri": "https://localhost:8080/",
          "height": 351
        }
      },
      "source": [
        "inp = Input(shape=(max_seq_len, ))\n",
        "x = Embedding(nb_words, embed_dim, weights=[embedding_matrix], trainable=False)(inp)\n",
        "x = Bidirectional(LSTM(300, return_sequences=True, dropout=0.25, recurrent_dropout=0.25))(x)\n",
        "x = Attention(max_seq_len)(x)\n",
        "x = Dense(256, activation=\"relu\")(x)\n",
        "#x = Dropout(0.25)(x)\n",
        "x = Dense(1, activation=\"sigmoid\")(x)\n",
        "model = Model(inputs=inp, outputs=x)\n",
        "\n",
        "model.compile(loss='binary_crossentropy',optimizer='adam', metrics=['accuracy'])\n",
        "model.summary()"
      ],
      "execution_count": 0,
      "outputs": [
        {
          "output_type": "stream",
          "text": [
            "Model: \"model_1\"\n",
            "_________________________________________________________________\n",
            "Layer (type)                 Output Shape              Param #   \n",
            "=================================================================\n",
            "input_1 (InputLayer)         (None, 23)                0         \n",
            "_________________________________________________________________\n",
            "embedding_1 (Embedding)      (None, 23, 300)           2952600   \n",
            "_________________________________________________________________\n",
            "bidirectional_1 (Bidirection (None, 23, 600)           1442400   \n",
            "_________________________________________________________________\n",
            "attention_1 (Attention)      (None, 600)               623       \n",
            "_________________________________________________________________\n",
            "dense_1 (Dense)              (None, 256)               153856    \n",
            "_________________________________________________________________\n",
            "dense_2 (Dense)              (None, 1)                 257       \n",
            "=================================================================\n",
            "Total params: 4,549,736\n",
            "Trainable params: 1,597,136\n",
            "Non-trainable params: 2,952,600\n",
            "_________________________________________________________________\n"
          ],
          "name": "stdout"
        }
      ]
    },
    {
      "cell_type": "code",
      "metadata": {
        "colab_type": "code",
        "outputId": "bee8471f-5c4e-42f4-f9a0-955627b34ef7",
        "id": "jS_1oCVunTOO",
        "colab": {
          "base_uri": "https://localhost:8080/",
          "height": 301
        }
      },
      "source": [
        "hist = model.fit(word_seq_train, y_train, batch_size=batch_size, epochs=num_epochs, validation_split=0.1, shuffle=True)"
      ],
      "execution_count": 0,
      "outputs": [
        {
          "output_type": "stream",
          "text": [
            "Train on 96209 samples, validate on 10690 samples\n",
            "Epoch 1/8\n",
            "96209/96209 [==============================] - 136s 1ms/step - loss: 0.5580 - accuracy: 0.7032 - val_loss: 0.5089 - val_accuracy: 0.7437\n",
            "Epoch 2/8\n",
            "96209/96209 [==============================] - 133s 1ms/step - loss: 0.4989 - accuracy: 0.7474 - val_loss: 0.4786 - val_accuracy: 0.7637\n",
            "Epoch 3/8\n",
            "96209/96209 [==============================] - 131s 1ms/step - loss: 0.4653 - accuracy: 0.7692 - val_loss: 0.4775 - val_accuracy: 0.7597\n",
            "Epoch 4/8\n",
            "96209/96209 [==============================] - 131s 1ms/step - loss: 0.4374 - accuracy: 0.7876 - val_loss: 0.4554 - val_accuracy: 0.7767\n",
            "Epoch 5/8\n",
            "96209/96209 [==============================] - 134s 1ms/step - loss: 0.4091 - accuracy: 0.8048 - val_loss: 0.4626 - val_accuracy: 0.7797\n",
            "Epoch 6/8\n",
            "96209/96209 [==============================] - 132s 1ms/step - loss: 0.3849 - accuracy: 0.8188 - val_loss: 0.4648 - val_accuracy: 0.7737\n",
            "Epoch 7/8\n",
            "96209/96209 [==============================] - 132s 1ms/step - loss: 0.3609 - accuracy: 0.8319 - val_loss: 0.4722 - val_accuracy: 0.7708\n",
            "Epoch 8/8\n",
            "96209/96209 [==============================] - 133s 1ms/step - loss: 0.3386 - accuracy: 0.8442 - val_loss: 0.4747 - val_accuracy: 0.7804\n"
          ],
          "name": "stdout"
        }
      ]
    },
    {
      "cell_type": "code",
      "metadata": {
        "id": "LnF9gZEntcKl",
        "colab_type": "code",
        "outputId": "76d8f1c2-3a55-4e2d-fbd4-b00911c1ad05",
        "colab": {
          "base_uri": "https://localhost:8080/",
          "height": 153
        }
      },
      "source": [
        "print(y_train)\n",
        "print(len(y_train))"
      ],
      "execution_count": 0,
      "outputs": [
        {
          "output_type": "stream",
          "text": [
            "[[0]\n",
            " [1]\n",
            " [0]\n",
            " ...\n",
            " [0]\n",
            " [0]\n",
            " [0]]\n",
            "4999\n"
          ],
          "name": "stdout"
        }
      ]
    },
    {
      "cell_type": "code",
      "metadata": {
        "_cell_guid": "38c67614-db6d-4d57-80d6-e46404bf4147",
        "_uuid": "c1a947e9bc4acefed432c40ec79fa318921278a2",
        "trusted": true,
        "id": "2miFvICypaiy",
        "colab_type": "code",
        "outputId": "86a8b66a-fbdb-46b1-e2eb-47c4798fc8b6",
        "colab": {
          "base_uri": "https://localhost:8080/",
          "height": 183
        }
      },
      "source": [
        "#model training\n",
        "hist = model.fit(word_seq_train, y_train, batch_size=batch_size, epochs=num_epochs, validation_split=0.1, shuffle=True)"
      ],
      "execution_count": 0,
      "outputs": [
        {
          "output_type": "error",
          "ename": "NameError",
          "evalue": "ignored",
          "traceback": [
            "\u001b[0;31m---------------------------------------------------------------------------\u001b[0m",
            "\u001b[0;31mNameError\u001b[0m                                 Traceback (most recent call last)",
            "\u001b[0;32m<ipython-input-21-70b64faee771>\u001b[0m in \u001b[0;36m<module>\u001b[0;34m()\u001b[0m\n\u001b[0;32m----> 1\u001b[0;31m \u001b[0mhist\u001b[0m \u001b[0;34m=\u001b[0m \u001b[0mmodel\u001b[0m\u001b[0;34m.\u001b[0m\u001b[0mfit\u001b[0m\u001b[0;34m(\u001b[0m\u001b[0mword_seq_train\u001b[0m\u001b[0;34m,\u001b[0m \u001b[0my_train\u001b[0m\u001b[0;34m,\u001b[0m \u001b[0mbatch_size\u001b[0m\u001b[0;34m=\u001b[0m\u001b[0mbatch_size\u001b[0m\u001b[0;34m,\u001b[0m \u001b[0mepochs\u001b[0m\u001b[0;34m=\u001b[0m\u001b[0mnum_epochs\u001b[0m\u001b[0;34m,\u001b[0m \u001b[0mcallbacks\u001b[0m\u001b[0;34m=\u001b[0m\u001b[0mcallbacks_list\u001b[0m\u001b[0;34m,\u001b[0m \u001b[0mvalidation_split\u001b[0m\u001b[0;34m=\u001b[0m\u001b[0;36m0.1\u001b[0m\u001b[0;34m,\u001b[0m \u001b[0mshuffle\u001b[0m\u001b[0;34m=\u001b[0m\u001b[0;32mTrue\u001b[0m\u001b[0;34m,\u001b[0m \u001b[0mverbose\u001b[0m\u001b[0;34m=\u001b[0m\u001b[0;36m2\u001b[0m\u001b[0;34m)\u001b[0m\u001b[0;34m\u001b[0m\u001b[0;34m\u001b[0m\u001b[0m\n\u001b[0m",
            "\u001b[0;31mNameError\u001b[0m: name 'callbacks_list' is not defined"
          ]
        }
      ]
    },
    {
      "cell_type": "markdown",
      "metadata": {
        "_cell_guid": "bcc9c1ac-db54-4356-bce7-0ef39dbaf909",
        "_uuid": "169c30a270b00bf2088afc4268ada3042318adb3",
        "id": "Mdu_nMcApaiu",
        "colab_type": "text"
      },
      "source": [
        "Because of the multi-label loss, we are using k-hot encoding of the output and sigmoid activations. As a result, the loss is binary cross-entropy."
      ]
    },
    {
      "cell_type": "code",
      "metadata": {
        "_cell_guid": "e439dcfb-c97c-4ae5-b6d4-e48b5c44b919",
        "_uuid": "c48a4db47861146bc4e90b3be6cd23106edb1255",
        "trusted": true,
        "id": "iRnZuvWNpaiu",
        "colab_type": "code",
        "colab": {}
      },
      "source": [
        "#define callbacks\n",
        "early_stopping = EarlyStopping(monitor='val_loss', min_delta=0.01, patience=4, verbose=1)\n",
        "callbacks_list = [early_stopping]"
      ],
      "execution_count": 0,
      "outputs": []
    },
    {
      "cell_type": "markdown",
      "metadata": {
        "_cell_guid": "dfd0eaee-5f7b-4e6d-b809-dfe1316a30db",
        "_uuid": "b48d3b7623e2ce8e814ed246595c213f4321af64",
        "id": "s7bnOpv0pai1",
        "colab_type": "text"
      },
      "source": [
        "Let's make predictions on the test data:"
      ]
    },
    {
      "cell_type": "code",
      "metadata": {
        "_cell_guid": "5e2c397f-ae3f-4382-891c-89b172fe9e48",
        "_uuid": "25540b75e933d23b7e204ce34df09415392c8474",
        "trusted": true,
        "id": "IfCPM49qpai1",
        "colab_type": "code",
        "outputId": "a7584652-0e29-4d2d-8d98-f728fc8dc5f4",
        "colab": {
          "base_uri": "https://localhost:8080/",
          "height": 1000
        }
      },
      "source": [
        "y_pred = model.predict(word_seq_test)\n",
        "print(y_pred)\n",
        "from sklearn.metrics import classification_report\n",
        "\n",
        "#y_pred = model.predict(word_seq_test, batch_size=64, verbose=1)\n",
        "#y_pred_bool = np.argmax(y_pred, axis=1)\n",
        "#y_final=y_pred_bool.round\n",
        "print(classification_report(y_test, y_pred.round()))"
      ],
      "execution_count": 0,
      "outputs": [
        {
          "output_type": "stream",
          "text": [
            "[[0.74227786]\n",
            " [0.5047133 ]\n",
            " [0.8221329 ]\n",
            " [0.4604183 ]\n",
            " [0.91411513]\n",
            " [0.52935994]\n",
            " [0.9285195 ]\n",
            " [0.699492  ]\n",
            " [0.50055104]\n",
            " [0.77881575]\n",
            " [0.45935008]\n",
            " [0.99589455]\n",
            " [0.714272  ]\n",
            " [0.99890804]\n",
            " [0.95115834]\n",
            " [0.8540589 ]\n",
            " [0.73217684]\n",
            " [0.5370274 ]\n",
            " [0.6116317 ]\n",
            " [0.9704306 ]\n",
            " [0.85503036]\n",
            " [0.83672565]\n",
            " [0.95010334]\n",
            " [0.56763524]\n",
            " [0.9049514 ]\n",
            " [0.595439  ]\n",
            " [0.4202568 ]\n",
            " [0.96245635]\n",
            " [0.9527545 ]\n",
            " [0.92329115]\n",
            " [0.6713236 ]\n",
            " [0.9456618 ]\n",
            " [0.9726731 ]\n",
            " [0.9448101 ]\n",
            " [0.92816687]\n",
            " [0.9555551 ]\n",
            " [0.8508468 ]\n",
            " [0.8108252 ]\n",
            " [0.966388  ]\n",
            " [0.72358817]\n",
            " [0.870922  ]\n",
            " [0.8803662 ]\n",
            " [0.916993  ]\n",
            " [0.4897167 ]\n",
            " [0.6230776 ]\n",
            " [0.9450136 ]\n",
            " [0.54772323]\n",
            " [0.4123038 ]\n",
            " [0.897395  ]\n",
            " [0.7520355 ]\n",
            " [0.73475075]\n",
            " [0.5940251 ]\n",
            " [0.78745985]\n",
            " [0.95681524]\n",
            " [0.9990702 ]\n",
            " [0.45634347]\n",
            " [0.66067195]\n",
            " [0.8372949 ]\n",
            " [0.9591135 ]\n",
            " [0.7314591 ]\n",
            " [0.766696  ]\n",
            " [0.5349784 ]\n",
            " [0.8003424 ]\n",
            " [0.97009665]\n",
            " [0.99233997]\n",
            " [0.8244031 ]\n",
            " [0.87771237]\n",
            " [0.9276703 ]\n",
            " [0.7717381 ]\n",
            " [0.9410118 ]\n",
            " [0.47282058]\n",
            " [0.9737935 ]\n",
            " [0.9753846 ]\n",
            " [0.62053657]\n",
            " [0.8215027 ]\n",
            " [0.8899912 ]\n",
            " [0.95080733]\n",
            " [0.820426  ]\n",
            " [0.89305866]\n",
            " [0.481136  ]\n",
            " [0.45684874]\n",
            " [0.40697888]\n",
            " [0.35650057]\n",
            " [0.35948825]\n",
            " [0.633059  ]\n",
            " [0.3915243 ]\n",
            " [0.57666194]\n",
            " [0.7994752 ]\n",
            " [0.90936375]\n",
            " [0.8249937 ]\n",
            " [0.46319082]\n",
            " [0.99859744]\n",
            " [0.9079212 ]\n",
            " [0.9986525 ]\n",
            " [0.94310516]\n",
            " [0.97357935]\n",
            " [0.913643  ]\n",
            " [0.80092055]\n",
            " [0.67491966]\n",
            " [0.43463588]\n",
            " [0.5436821 ]\n",
            " [0.91777134]\n",
            " [0.31179318]\n",
            " [0.87334573]\n",
            " [0.41838694]\n",
            " [0.9593488 ]\n",
            " [0.9577276 ]\n",
            " [0.9859461 ]\n",
            " [0.6989277 ]\n",
            " [0.96672153]\n",
            " [0.9910868 ]\n",
            " [0.48332423]\n",
            " [0.721962  ]\n",
            " [0.15088503]\n",
            " [0.9062177 ]\n",
            " [0.5246694 ]\n",
            " [0.97888994]\n",
            " [0.7402297 ]\n",
            " [0.9622817 ]\n",
            " [0.99180156]\n",
            " [0.9578579 ]\n",
            " [0.7577247 ]\n",
            " [0.50708914]\n",
            " [0.8378285 ]\n",
            " [0.97335726]\n",
            " [0.21027836]\n",
            " [0.7123154 ]\n",
            " [0.7432666 ]\n",
            " [0.96112615]\n",
            " [0.70152575]\n",
            " [0.45434943]\n",
            " [0.48072693]\n",
            " [0.91412145]\n",
            " [0.57959723]\n",
            " [0.7729785 ]\n",
            " [0.55168545]\n",
            " [0.19854046]\n",
            " [0.5587514 ]\n",
            " [0.5270437 ]\n",
            " [0.9598869 ]\n",
            " [0.94605273]\n",
            " [0.79907656]\n",
            " [0.52405244]\n",
            " [0.7964704 ]\n",
            " [0.57090926]\n",
            " [0.52057266]\n",
            " [0.5168334 ]\n",
            " [0.8191581 ]\n",
            " [0.9319135 ]\n",
            " [0.97721297]\n",
            " [0.7059561 ]\n",
            " [0.71647006]\n",
            " [0.5612078 ]\n",
            " [0.970769  ]\n",
            " [0.9905308 ]\n",
            " [0.8064747 ]\n",
            " [0.8789808 ]\n",
            " [0.9169957 ]\n",
            " [0.8176109 ]\n",
            " [0.5183277 ]\n",
            " [0.8521568 ]\n",
            " [0.9389965 ]\n",
            " [0.70594954]\n",
            " [0.7918134 ]\n",
            " [0.9064908 ]\n",
            " [0.539589  ]\n",
            " [0.6483057 ]\n",
            " [0.61430615]\n",
            " [0.5730697 ]\n",
            " [0.6519397 ]\n",
            " [0.5350784 ]\n",
            " [0.7052703 ]\n",
            " [0.97779435]\n",
            " [0.8043238 ]\n",
            " [0.7542768 ]\n",
            " [0.8700237 ]\n",
            " [0.9086068 ]\n",
            " [0.9370471 ]\n",
            " [0.5842851 ]\n",
            " [0.5164504 ]\n",
            " [0.5460341 ]\n",
            " [0.9315135 ]\n",
            " [0.5051968 ]\n",
            " [0.80824506]\n",
            " [0.9518588 ]\n",
            " [0.9256354 ]\n",
            " [0.9734153 ]\n",
            " [0.9330235 ]\n",
            " [0.8574803 ]\n",
            " [0.9580519 ]\n",
            " [0.9992644 ]\n",
            " [0.5168982 ]\n",
            " [0.82458484]\n",
            " [0.97898793]\n",
            " [0.8007729 ]\n",
            " [0.6164814 ]\n",
            " [0.9721495 ]\n",
            " [0.8006912 ]\n",
            " [0.89718646]\n",
            " [0.9158278 ]\n",
            " [0.9340074 ]\n",
            " [0.7945628 ]\n",
            " [0.95767045]\n",
            " [0.536821  ]\n",
            " [0.58343977]\n",
            " [0.6288666 ]\n",
            " [0.6962182 ]\n",
            " [0.9983413 ]\n",
            " [0.9846473 ]\n",
            " [0.59699106]\n",
            " [0.78497756]\n",
            " [0.5601653 ]\n",
            " [0.7142819 ]\n",
            " [0.53680253]\n",
            " [0.5982459 ]\n",
            " [0.95150876]\n",
            " [0.6513692 ]\n",
            " [0.64788043]\n",
            " [0.82645017]\n",
            " [0.6492197 ]\n",
            " [0.9314587 ]\n",
            " [0.6872775 ]\n",
            " [0.58569175]\n",
            " [0.8924366 ]\n",
            " [0.64594907]\n",
            " [0.93469375]\n",
            " [0.72019774]\n",
            " [0.9519454 ]\n",
            " [0.84732735]\n",
            " [0.84125596]\n",
            " [0.8453936 ]\n",
            " [0.9321068 ]\n",
            " [0.5615602 ]\n",
            " [0.73711634]\n",
            " [0.5122554 ]\n",
            " [0.90542454]\n",
            " [0.6162301 ]\n",
            " [0.80554885]\n",
            " [0.95690376]\n",
            " [0.6867216 ]\n",
            " [0.98236406]\n",
            " [0.91653895]\n",
            " [0.59803087]\n",
            " [0.7188799 ]\n",
            " [0.99461186]\n",
            " [0.9459417 ]\n",
            " [0.6302087 ]\n",
            " [0.8328825 ]\n",
            " [0.98112434]\n",
            " [0.8867212 ]\n",
            " [0.88802487]]\n",
            "              precision    recall  f1-score   support\n",
            "\n",
            "           0       1.00      0.09      0.17       250\n",
            "           1       0.00      1.00      0.01         1\n",
            "\n",
            "    accuracy                           0.10       251\n",
            "   macro avg       0.50      0.55      0.09       251\n",
            "weighted avg       1.00      0.10      0.17       251\n",
            "\n"
          ],
          "name": "stdout"
        }
      ]
    },
    {
      "cell_type": "code",
      "metadata": {
        "_cell_guid": "16a97ecf-a5bb-46c5-814f-ab4483afe139",
        "_uuid": "cc103f87ffee97d82a6c18f9f7d360a739a8482c",
        "trusted": true,
        "id": "mG6a7tvnpai5",
        "colab_type": "code",
        "colab": {}
      },
      "source": [
        "#create a submission\n",
        "submission_df = pd.DataFrame(columns=['tweet_id'] + label_names)\n",
        "submission_df['tweet_id'] = test_df['tweet_id'].values \n",
        "submission_df[label_names] = y_test \n",
        "submission_df.to_csv(\"./cnn_fasttext_submission.csv\", index=False)"
      ],
      "execution_count": 0,
      "outputs": []
    },
    {
      "cell_type": "markdown",
      "metadata": {
        "_cell_guid": "34f04d6b-f37f-4917-9128-1a4d2ddb318a",
        "_uuid": "0739cf53451a26d1d8a7800b18c97ed706fb4b96",
        "id": "eKtwAWdQpai8",
        "colab_type": "text"
      },
      "source": [
        "Looking at training and validation loss / accuracy figures below, we can see there is no sign of over-fitting."
      ]
    },
    {
      "cell_type": "code",
      "metadata": {
        "_cell_guid": "89fdc75d-43eb-445c-8588-af0eed779ca3",
        "_uuid": "c70a282f66aa426654d9b02fec4a1f31f59286ab",
        "trusted": true,
        "id": "HleZR1m_pai9",
        "colab_type": "code",
        "outputId": "00788b82-bef4-45e5-d500-def59c7abf00",
        "colab": {
          "base_uri": "https://localhost:8080/",
          "height": 295
        }
      },
      "source": [
        "#generate plots\n",
        "plt.figure()\n",
        "plt.plot(hist.history['loss'], lw=2.0, color='b', label='train')\n",
        "plt.plot(hist.history['val_loss'], lw=2.0, color='r', label='val')\n",
        "plt.title('CNN sentiment')\n",
        "plt.xlabel('Epochs')\n",
        "plt.ylabel('Cross-Entropy Loss')\n",
        "plt.legend(loc='upper right')\n",
        "plt.show()"
      ],
      "execution_count": 0,
      "outputs": [
        {
          "output_type": "display_data",
          "data": {
            "image/png": "[encoded data removed]",
            "text/plain": [
              "<Figure size 432x288 with 1 Axes>"
            ]
          },
          "metadata": {
            "tags": []
          }
        }
      ]
    },
    {
      "cell_type": "code",
      "metadata": {
        "_cell_guid": "9f6fccbb-7888-41c1-99e5-eb1d95f19021",
        "_uuid": "dcf22acf97cd6321d449db27fde638f5d71d68dd",
        "trusted": true,
        "id": "VdcggnhrpajA",
        "colab_type": "code",
        "outputId": "b07d3341-56c3-49e9-caf6-a397ff1bdfb1",
        "colab": {
          "base_uri": "https://localhost:8080/",
          "height": 295
        }
      },
      "source": [
        "plt.figure()\n",
        "plt.plot(hist.history['accuracy'], lw=2.0, color='b', label='train')\n",
        "plt.plot(hist.history['val_accuracy'], lw=2.0, color='r', label='val')\n",
        "plt.title('CNN sentiment')\n",
        "plt.xlabel('Epochs')\n",
        "plt.ylabel('Accuracy')\n",
        "plt.legend(loc='upper left')\n",
        "plt.show()"
      ],
      "execution_count": 0,
      "outputs": [
        {
          "output_type": "display_data",
          "data": {
            "image/png": "[encoded data removed]",
            "text/plain": [
              "<Figure size 432x288 with 1 Axes>"
            ]
          },
          "metadata": {
            "tags": []
          }
        }
      ]
    },
    {
      "cell_type": "markdown",
      "metadata": {
        "_cell_guid": "febbb068-edfb-4157-8bd8-38d3ae698e92",
        "_uuid": "1bf8b52609c0538f619ac4d6efea04b6491a4673",
        "id": "WjBwLxlopajD",
        "colab_type": "text"
      },
      "source": [
        "**References:**\n",
        "\n",
        "[1] P. Bojanowski, E. Grave, A. Joulin, T. Mikolov, \"Enriching Word Vectors with Subword Information\", arXiv, 2016  \n",
        "[2] FastText Embeddings: https://github.com/facebookresearch/fastText/blob/master/pretrained-vectors.md  \n",
        "[3] F. Chollet, \"Deep Learning with Python\", Manning Publications, 2017  "
      ]
    }
  ]
}